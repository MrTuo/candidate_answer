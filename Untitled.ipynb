{
 "cells": [
  {
   "cell_type": "code",
   "execution_count": 47,
   "metadata": {
    "collapsed": true
   },
   "outputs": [],
   "source": [
    "import json\n",
    "import torch.optim as optim\n",
    "import numpy as np\n",
    "from torch.autograd import Variable\n",
    "import torch.nn as nn\n",
    "import torch.nn.functional as F\n",
    "import random\n",
    "import torch\n",
    "from io import open\n",
    "import traceback\n",
    "import time\n",
    "import argparse\n",
    "import matplotlib.pyplot as plt\n",
    "import matplotlib.ticker as ticker\n",
    "import os\n",
    "\n",
    "class Args:\n",
    "    def __init__(self):\n",
    "        self.ebd_size = 100\n",
    "        self.max_wds = 100\n",
    "        self.k_size = 2\n",
    "        self.out_cs= 300\n",
    "        self.l_out = 200\n",
    "        self.rnn_h = 200\n",
    "        self.rnn_l = 1\n",
    "        self.bidirectional = True\n",
    "        self.attn_h = 100\n",
    "        self.batch = 64\n",
    "        self.epoches = 100\n",
    "        self.t0 = 0.5\n",
    "        self.dir_ebd = 'data/sogou_100_nobinary'\n",
    "        self.dir_train = 'data/json_train_expt_stop2'\n",
    "        self.dir_test = 'data/json_test_expt_stop'\n",
    "        self.model = 'LSTM'\n",
    "args = Args()\n",
    "def log(log_inf):\n",
    "    print(log_inf)"
   ]
  },
  {
   "cell_type": "code",
   "execution_count": 3,
   "metadata": {
    "collapsed": true
   },
   "outputs": [],
   "source": [
    "def load_ebd(dir_ebd, embedding_size):\n",
    "    embedding = {}\n",
    "    f = open(dir_ebd, \"r\", encoding='utf-8')\n",
    "    line = f.readline()\n",
    "    while line:\n",
    "        try:\n",
    "            content = line.strip(' \\n').split(' ')\n",
    "            assert len(content) == embedding_size + 1\n",
    "            embedding[content[0]] = np.array([float(i) for i in content[1:]])\n",
    "            line = f.readline()\n",
    "        except:\n",
    "            print('loading embedding error!\\n' + content)\n",
    "            break\n",
    "    f.close()\n",
    "    return embedding\n",
    "\n",
    "# Start training\n",
    "def get_sentence_embedding(s, out_size, embedding, embedding_size):\n",
    "    arr = []\n",
    "    for word in s:\n",
    "        if word in embedding:\n",
    "            arr.append(embedding[word])\n",
    "        else:\n",
    "            print('empty word:',word.encode('utf-8'))\n",
    "            pass\n",
    "            # arr.append([random.uniform(-1,1) for i in range(embedding_size)])\n",
    "    if len(arr) < out_size:  # 补零\n",
    "        append_arr = [0.0 for i in range(embedding_size)]\n",
    "        for j in range(out_size - len(arr)):\n",
    "            arr.append(append_arr)\n",
    "    elif len(arr) > out_size:\n",
    "        arr = arr[:out_size]\n",
    "    if args.model == 'CNN': \n",
    "        return [arr]\n",
    "    else:\n",
    "        return arr"
   ]
  },
  {
   "cell_type": "code",
   "execution_count": 24,
   "metadata": {
    "collapsed": true
   },
   "outputs": [],
   "source": [
    "def testNetMRR(net, dir_test, max_words, embedding, embedding_size, cuda_able):\n",
    "    log('start test on ' + dir_test + '...')\n",
    "    f = open(dir_test, 'r', encoding='utf-8')\n",
    "    test_data = json.loads(f.read())\n",
    "    # subkey = [str(i) for i in range(1,1000)]\n",
    "    # test_data = dict([(key, test_data[key]) for key in subkey])\n",
    "    f.close()\n",
    "\n",
    "    MRR = 0\n",
    "    count_right_answer = 0\n",
    "    data_count = 0\n",
    "    for id in test_data:\n",
    "        if args.debug and data_count >= args.debug_test_data:\n",
    "            break\n",
    "        # get the inputs\n",
    "        question_ebd = get_sentence_embedding(test_data[id]['question'], max_words, embedding, embedding_size)\n",
    "\n",
    "        for right_answer in test_data[id]['right_answer']:\n",
    "            right_answer_ebd = get_sentence_embedding(right_answer, max_words, embedding, embedding_size)\n",
    "            rank = 1  # rank of right answer in all answers\n",
    "            no_pos_score = True  # tag to help caculate right score\n",
    "            for wrong_answer in test_data[id]['wrong_answer']:\n",
    "                batch = [[] for i in range(3)]\n",
    "                wrong_answer_ebd = get_sentence_embedding(wrong_answer, max_words, embedding, embedding_size)\n",
    "                batch[0].append(wrong_answer_ebd)\n",
    "                batch[1].append(question_ebd)\n",
    "                batch[2].append(right_answer_ebd)\n",
    "                # print(x1.size(),x2.size(),x3.size())\n",
    "                x1, x2, x3 = torch.Tensor(batch[0]), torch.Tensor(batch[1]), torch.Tensor(batch[2])\n",
    "                if cuda_able:\n",
    "                    x1, x2, x3 = Variable(x1.cuda()), Variable(x2.cuda()), Variable(x3.cuda())\n",
    "                else:\n",
    "                    x1, x2, x3 = Variable(x1), Variable(x2), Variable(x3)\n",
    "                if no_pos_score:\n",
    "                    pos_score, neg_cosine = net(x1, x2, x3, 1)\n",
    "                    no_pos_score = False\n",
    "                neg_score, neg_cosine = net(x3, x2, x1, 1)\n",
    "                # print(x1)\n",
    "                # log(('neg_cosine:%f, neg_cosine2:%f, pos_score:%f, neg_score:%f') % (neg_cosine.data[0],neg_cosine2.data[0],pos_score.data[0],neg_score.data[0]))\n",
    "                if pos_score.data[0] < neg_score.data[0]:\n",
    "                    rank += 1\n",
    "            # log(\"rank:%d\" %(rank))\n",
    "            MRR += 1.0 / rank\n",
    "            count_right_answer += 1\n",
    "            if count_right_answer % 2000 == 1999:  # print every 2000 mini-batches\n",
    "                log('count_right_answer:%d; MRR:%f' %\n",
    "                    (count_right_answer, MRR / count_right_answer))\n",
    "        data_count += 1\n",
    "    MRR /= count_right_answer\n",
    "    log(\"On\" + dir_test + \"Final MRR:%f\" % (MRR))\n",
    "    return MRR"
   ]
  },
  {
   "cell_type": "code",
   "execution_count": 25,
   "metadata": {
    "collapsed": true
   },
   "outputs": [],
   "source": [
    "def train(net, args, embedding, loss_func, cuda_able, optimizer):\n",
    "    log('training on '+args.dir_train)\n",
    "    f = open(args.dir_train, 'r', encoding='utf-8')\n",
    "    data = json.loads(f.read())  # 8768 quesions(except 4 questions which don't have the right answer)\n",
    "    f.close()\n",
    "    count_step = 0\n",
    "    max_MRR = 0\n",
    "    running_loss = 0.0\n",
    "    for epoch in range(args.epoches):  # loop over the dataset multiple times\n",
    "        data_count = 0\n",
    "        batch = [[] for i in range(3)]\n",
    "        for id in data:\n",
    "            if args.debug and data_count >= args.debug_train_data:\n",
    "                break\n",
    "            # get the inputs\n",
    "            question_ebd = get_sentence_embedding(data[id]['question'], args.max_wds, embedding, args.ebd_size)\n",
    "            for right_answer in data[id]['right_answer']:\n",
    "                right_answer_ebd = get_sentence_embedding(right_answer, args.max_wds, embedding, args.ebd_size)\n",
    "                for wrong_answer in data[id]['wrong_answer']:\n",
    "                    wrong_answer_ebd = get_sentence_embedding(wrong_answer, args.max_wds, embedding, args.ebd_size)\n",
    "                    batch[0].append(wrong_answer_ebd)\n",
    "                    batch[1].append(question_ebd)\n",
    "                    batch[2].append(right_answer_ebd)\n",
    "                    if len(batch[0]) == args.batch:\n",
    "                        # wrap them in Variable\n",
    "                        # assert(batch[0])\n",
    "                        x1, x2, x3 = torch.Tensor(batch[0]), torch.Tensor(batch[1]), torch.Tensor(batch[2])\n",
    "                        if cuda_able:\n",
    "                            x1, x2, x3 = Variable(x1.cuda()), Variable(x2.cuda()), Variable(x3.cuda())\n",
    "                        else:\n",
    "                            x1, x2, x3 = Variable(x1), Variable(x2), Variable(x3)\n",
    "                        # zero the parameter gradients\n",
    "                        optimizer.zero_grad()\n",
    "                        # forward + backward + optimize\n",
    "                        pos_cosine, neg_cosine = net(x1, x2, x3, args.batch)\n",
    "                        loss = loss_func(pos_cosine, neg_cosine)\n",
    "                        loss.backward()\n",
    "                        optimizer.step()\n",
    "\n",
    "                        count_step += 1\n",
    "                        running_loss += loss.data[0]\n",
    "                        # log('Pos:%f Neg:%f\\t[%d, %5d] loss: %f' % (pos_cosine.data[0], neg_cosine.data[0], epoch + 1, count_step + 1, loss.data[0]))\n",
    "                        if count_step % args.print_per_steps == args.print_per_steps - 1:  # print every 2000 mini-batches\n",
    "                            log('[%d, %5d] loss: %f' %\n",
    "                                (epoch + 1, count_step + 1, running_loss / args.print_per_steps))\n",
    "                            running_loss = 0.0\n",
    "                        # clear batch\n",
    "                        batch = [[] for i in range(3)]\n",
    "            data_count += 1\n",
    "        MRR = testNetMRR(net,args.dir_dev, args.max_wds, embedding, args.ebd_size, cuda_able)\n",
    "        if MRR > max_MRR:\n",
    "            max_MRR = MRR\n",
    "            max_epoch = epoch\n",
    "    log('Finish training, max MRR:%f,and its epoch:%d' % (max_MRR, max_epoch+1))"
   ]
  },
  {
   "cell_type": "code",
   "execution_count": 109,
   "metadata": {},
   "outputs": [],
   "source": [
    "def showAttention(question, answer, attentions, pic_name):\n",
    "    # Set up figure with colorbar\n",
    "    fig = plt.figure()\n",
    "    ax = fig.add_subplot(111)\n",
    "    cax = ax.matshow(attentions.data.numpy(), cmap='bone')\n",
    "    fig.colorbar(cax)\n",
    "\n",
    "    # Set up axes\n",
    "    ax.set_xticklabels([''] + answer.split(' ') +\n",
    "                       ['<EOS>'], rotation=90)\n",
    "    ax.set_yticklabels([''] + ['result'])\n",
    "\n",
    "    # Show label at every tick\n",
    "    ax.xaxis.set_major_locator(ticker.MultipleLocator(1))\n",
    "    ax.yaxis.set_major_locator(ticker.MultipleLocator(1))\n",
    "    \n",
    "    plt.savefig(pic_name+'.png', format='png')\n",
    "    plt.show()\n",
    "    \n",
    "def evaluate_attention(args, embedding, net, data):\n",
    "    '''\n",
    "    data: dictionary contains 'question' 'right_answer' 'wrong_answer'. all sentence need to be participled like:'周杰伦 今年 多大 了'\n",
    "    '''\n",
    "    question_ebd = get_sentence_embedding(data['question'], args.max_wds, embedding, args.ebd_size)\n",
    "    for right_answer in data['right_answer']:\n",
    "            right_answer_ebd = get_sentence_embedding(right_answer, args.max_wds, embedding, args.ebd_size)\n",
    "            for wrong_answer in data['wrong_answer']:\n",
    "                wrong_answer_ebd = get_sentence_embedding(wrong_answer, args.max_wds, embedding, args.ebd_size)\n",
    "                # print(x1.size(),x2.size(),x3.size())\n",
    "                x1, x2, x3 = torch.Tensor([wrong_answer_ebd]), torch.Tensor([question_ebd]), torch.Tensor([right_answer_ebd])\n",
    "                if cuda_able:\n",
    "                    x1, x2, x3 = Variable(x1.cuda()), Variable(x2.cuda()), Variable(x3.cuda())\n",
    "                else:\n",
    "                    x1, x2, x3 = Variable(x1), Variable(x2), Variable(x3)\n",
    "                pos_score, neg_cosine,s1 ,s2 = net(x1, x2, x3, 1) # s1:attention with wrong answer. s2:with right answer\n",
    "                log('@@ right answer attention:')\n",
    "                log(right_answer.replace(' ', '\\t'))\n",
    "                log('\\t'.join([str(list(i)[0]) for i in s2[0].data]))\n",
    "                #showAttention(data['question'], right_answer, s2[0],'right_answer')\n",
    "                log('@@ wrong answer attention:')\n",
    "                log(right_answer.replace(' ', '\\t'))\n",
    "                log('\\t'.join([str(list(i)[0]) for i in s1[0].data]))\n",
    "                #showAttention(data['question'], wrong_answer, s1[0], 'wrong_answer')"
   ]
  },
  {
   "cell_type": "code",
   "execution_count": 27,
   "metadata": {
    "collapsed": true
   },
   "outputs": [],
   "source": [
    "class HingeLoss(nn.Module):\n",
    "    def __init__(self, t0, cuda_able):\n",
    "        super(HingeLoss, self).__init__()\n",
    "        self.t0 = t0\n",
    "        self.zero = Variable(torch.Tensor([0]).cuda() if cuda_able else torch.Tensor([0]))\n",
    "\n",
    "    def forward(self, s1, s2):\n",
    "        loss = torch.sum(torch.max(self.t0 - s1 + s2, self.zero))\n",
    "        return loss\n",
    "# 自定义可设置维度的softmax 源码地址：https://discuss.pytorch.org/t/why-softmax-function-cant-specify-the-dimension-to-operate/2637\n",
    "def softmax(input, axis=1):\n",
    "    input_size = input.size()\n",
    "    trans_input = input.transpose(axis, len(input_size)-1)\n",
    "    trans_size = trans_input.size()\n",
    "    input_2d = trans_input.contiguous().view(-1, trans_size[-1])  \n",
    "    soft_max_2d = F.softmax(input_2d)\n",
    "    soft_max_nd = soft_max_2d.view(*trans_size)\n",
    "    return soft_max_nd.transpose(axis, len(input_size)-1)"
   ]
  },
  {
   "cell_type": "code",
   "execution_count": 28,
   "metadata": {
    "collapsed": true
   },
   "outputs": [],
   "source": [
    "class AttnLSTM(nn.Module):\n",
    "    def __init__(self, batch_size, ebd_size, rnn_hidden, rnn_layers, linear_hidden, bidirectional, max_words, cuda_able, attn_hidden):\n",
    "        super(AttnLSTM, self).__init__()\n",
    "        self.batch_size = batch_size\n",
    "        self.cuda_able = cuda_able\n",
    "        self.rnn_layers = rnn_layers\n",
    "        self.rnn_hidden = rnn_hidden\n",
    "        self.num_directions = 2 if bidirectional else 1\n",
    "        self.lstm = nn.LSTM(input_size=ebd_size, hidden_size=rnn_hidden, num_layers=self.rnn_layers,\n",
    "                            batch_first=True, bidirectional=bidirectional)\n",
    "        self.hidden = self.init_hidden()\n",
    "        self.fc1 = nn.Linear(self.num_directions * rnn_hidden, linear_hidden)\n",
    "        self.pool1 = nn.MaxPool2d(kernel_size=(max_words, 1))\n",
    "        # attention -- according to the paper: LSTM-BASED DEEP LEARNING MODELS FOR NONFACTOID ANSWER SELECTION\n",
    "        self.am = nn.Linear(rnn_hidden*self.num_directions, attn_hidden, bias=False)\n",
    "        self.qm = nn.Linear(rnn_hidden*self.num_directions, attn_hidden, bias=False)\n",
    "        self.attn_weight = nn.Linear(attn_hidden, 1, bias=False)\n",
    "\n",
    "    def init_hidden(self):\n",
    "        h_0 = torch.zeros(self.num_directions * self.rnn_layers, self.batch_size, self.rnn_hidden)\n",
    "        c_0 = torch.zeros(self.num_directions * self.rnn_layers, self.batch_size, self.rnn_hidden)\n",
    "        return (Variable(h_0.cuda()), Variable(c_0.cuda())) if self.cuda_able else(Variable(h_0), Variable(c_0))\n",
    "\n",
    "    def forward(self, x1, x2, x3, batch_size):\n",
    "        # x1/x2/x3 分别表示错误答案，问题，正确答案\n",
    "        # print(\"in forward:\")\n",
    "        # transpose x\n",
    "        self.batch_size = batch_size\n",
    "        self.hidden = self.init_hidden()\n",
    "        x1, self.hidden = self.lstm(x1, self.hidden) # batch_size X seq_len X (lstm_h * num_layers)\n",
    "        self.hidden = self.init_hidden()\n",
    "        x2, self.hidden = self.lstm(x2, self.hidden)\n",
    "        self.hidden = self.init_hidden()\n",
    "        x3, self.hidden = self.lstm(x3, self.hidden)\n",
    "        #print(\"lstm:\",x1.size(),x2.size(),x3.size())\n",
    "        x2 = self.pool1(x2) # batch_size X 1 X (lstm_h * num_layers)\n",
    "        \n",
    "        # Attention       \n",
    "        m = F.tanh(self.am(x1)+self.qm(x2))# batch_size X seq_len X rnn_hidden\n",
    "        s1 = softmax(self.attn_weight(m), axis=1)# batch_size X seq_len X 1\n",
    "        x1 = x1 * s1 # batch_size X seq_len X (lstm_h * num_layers)\n",
    "        print('s1:',s1.size())\n",
    "        m = F.tanh(self.am(x3)+self.qm(x2))\n",
    "        s2 = softmax(self.attn_weight(m), axis=1)\n",
    "        x3 = x3 * s2\n",
    "        \n",
    "        x1 = F.tanh(self.pool1(x1))\n",
    "        x2 = F.tanh(x2)\n",
    "        x3 = F.tanh(self.pool1(x3))\n",
    "        \n",
    "        x1 = x1.view(x1.size(0), -1)\n",
    "        x2 = x2.view(x2.size(0), -1)\n",
    "        x3 = x3.view(x3.size(0), -1)\n",
    "        # print('view:',x1.size(),x2.size(),x3.size())\n",
    "        x1 = F.tanh(self.fc1(x1))\n",
    "        x2 = F.tanh(self.fc1(x2))\n",
    "        x3 = F.tanh(self.fc1(x3))\n",
    "        # print('fc:',x1.size(),x2.size(),x3.size())\n",
    "        neg_cosine = F.cosine_similarity(x1, x2)\n",
    "        pos_cosine = F.cosine_similarity(x2, x3)\n",
    "        # print('output:',neg_cosine.size(), pos_cosine.size())\n",
    "        return pos_cosine, neg_cosine, s1, s2"
   ]
  },
  {
   "cell_type": "code",
   "execution_count": 181,
   "metadata": {
    "collapsed": true
   },
   "outputs": [],
   "source": [
    "class AttnPoolingLSTM(nn.Module):\n",
    "    def __init__(self, batch_size, ebd_size, rnn_hidden, rnn_layers, linear_hidden, bidirectional, max_words, cuda_able, attn_hidden):\n",
    "        super(AttnPoolingLSTM, self).__init__()\n",
    "        self.batch_size = batch_size\n",
    "        self.cuda_able = cuda_able\n",
    "        self.rnn_layers = rnn_layers\n",
    "        self.rnn_hidden = rnn_hidden\n",
    "        self.num_directions = 2 if bidirectional else 1\n",
    "        self.lstm = nn.LSTM(input_size=ebd_size, hidden_size=rnn_hidden, num_layers=self.rnn_layers,\n",
    "                            batch_first=True, bidirectional=bidirectional)\n",
    "        self.hidden = self.init_hidden()\n",
    "        self.fc1 = nn.Linear(self.num_directions * rnn_hidden, linear_hidden)\n",
    "        self.q_attn_pool = nn.MaxPool2d(kernel_size=(max_words, 1))\n",
    "        self.a_attn_pool = nn.MaxPool2d(kernel_size=(1, max_words))\n",
    "        # attention -- according to the paper: LSTM-BASED DEEP LEARNING MODELS FOR NONFACTOID ANSWER SELECTION\n",
    "#         self.am = nn.Linear(rnn_hidden*self.num_directions, attn_hidden, bias=False)\n",
    "#         self.qm = nn.Linear(rnn_hidden*self.num_directions, attn_hidden, bias=False)\n",
    "#         self.attn_weight = nn.Linear(attn_hidden, 1, bias=False)\n",
    "        self.W = nn.parameter.Parameter(torch.Tensor(batch_size, rnn_hidden*self.num_directions, rnn_hidden*self.num_directions).uniform_(-0.05,0.05))\n",
    "    def init_hidden(self):\n",
    "        h_0 = torch.zeros(self.num_directions * self.rnn_layers, self.batch_size, self.rnn_hidden)\n",
    "        c_0 = torch.zeros(self.num_directions * self.rnn_layers, self.batch_size, self.rnn_hidden)\n",
    "        return (Variable(h_0.cuda()), Variable(c_0.cuda())) if self.cuda_able else(Variable(h_0), Variable(c_0))\n",
    "\n",
    "    def forward(self, x1, x2, x3, batch_size):\n",
    "        # x1/x2/x3 分别表示错误答案，问题，正确答案\n",
    "        # print(\"in forward:\")\n",
    "        # transpose x\n",
    "        self.batch_size = batch_size\n",
    "        self.hidden = self.init_hidden()\n",
    "        x1, self.hidden = self.lstm(x1, self.hidden) # batch_size X seq_len X (lstm_h * num_layers)\n",
    "        self.hidden = self.init_hidden()\n",
    "        x2, self.hidden = self.lstm(x2, self.hidden)\n",
    "        self.hidden = self.init_hidden()\n",
    "        x3, self.hidden = self.lstm(x3, self.hidden)\n",
    "        #print(\"lstm:\",x1.size(),x2.size(),x3.size())\n",
    "        q_wa_attn_mat = torch.matmul(torch.matmul(x1,W),x2) # batch_size X wa_seq_len X q_seq_len\n",
    "        weight_wa = self.a_attn_pool(q_wa_attn_mat) # batch_size X wa_seq_len X 1\n",
    "        x1 = weight_wa * x1\n",
    "        \n",
    "        q_ra_attn_mat = torch.matmul(torch.matmul(x3,W),x2) # batch_size X wa_seq_len X q_seq_len\n",
    "        weight_wa = self.a_attn_pool(q_wa_attn_mat) # batch_size X wa_seq_len X 1\n",
    "        x1 = weight_wa * x1\n",
    "        \n",
    "        \n",
    "#         x2 = self.pool1(x2) # batch_size X 1 X (lstm_h * num_layers)\n",
    "        \n",
    "#         # Attention       \n",
    "#         m = F.tanh(self.am(x1)+self.qm(x2))# batch_size X seq_len X rnn_hidden\n",
    "#         s1 = softmax(self.attn_weight(m), axis=1)# batch_size X seq_len X 1\n",
    "#         x1 = x1 * s1 # batch_size X seq_len X (lstm_h * num_layers)\n",
    "\n",
    "#         m = F.tanh(self.am(x3)+self.qm(x2))\n",
    "#         s2 = softmax(self.attn_weight(m), axis=1)\n",
    "#         x3 = x3 * s2\n",
    "        \n",
    "#         x1 = F.tanh(self.pool1(x1))\n",
    "#         x2 = F.tanh(x2)\n",
    "#         x3 = F.tanh(self.pool1(x3))\n",
    "        \n",
    "        x1 = x1.view(x1.size(0), -1)\n",
    "        x2 = x2.view(x2.size(0), -1)\n",
    "        x3 = x3.view(x3.size(0), -1)\n",
    "        # print('view:',x1.size(),x2.size(),x3.size())\n",
    "        x1 = F.tanh(self.fc1(x1))\n",
    "        x2 = F.tanh(self.fc1(x2))\n",
    "        x3 = F.tanh(self.fc1(x3))\n",
    "        # print('fc:',x1.size(),x2.size(),x3.size())\n",
    "        neg_cosine = F.cosine_similarity(x1, x2)\n",
    "        pos_cosine = F.cosine_similarity(x2, x3)\n",
    "        # print('output:',neg_cosine.size(), pos_cosine.size())\n",
    "        return pos_cosine, neg_cosine, s1, s2"
   ]
  },
  {
   "cell_type": "code",
   "execution_count": 14,
   "metadata": {
    "collapsed": true
   },
   "outputs": [],
   "source": [
    "torch.manual_seed(1)\n",
    "cuda_able = torch.cuda.is_available()\n",
    "loss_func = HingeLoss(args.t0, cuda_able)\n",
    "embedding = load_ebd(args.dir_ebd, args.ebd_size)"
   ]
  },
  {
   "cell_type": "code",
   "execution_count": 182,
   "metadata": {},
   "outputs": [
    {
     "name": "stdout",
     "output_type": "stream",
     "text": [
      "<class 'torch.FloatTensor'> torch.Size([250, 250, 250])\n",
      "<class 'torch.FloatTensor'> torch.Size([800, 100])\n",
      "<class 'torch.FloatTensor'> torch.Size([800, 200])\n",
      "<class 'torch.FloatTensor'> torch.Size([800])\n",
      "<class 'torch.FloatTensor'> torch.Size([800])\n",
      "<class 'torch.FloatTensor'> torch.Size([800, 100])\n",
      "<class 'torch.FloatTensor'> torch.Size([800, 200])\n",
      "<class 'torch.FloatTensor'> torch.Size([800])\n",
      "<class 'torch.FloatTensor'> torch.Size([800])\n",
      "<class 'torch.FloatTensor'> torch.Size([200, 400])\n",
      "<class 'torch.FloatTensor'> torch.Size([200])\n",
      "<class 'torch.FloatTensor'> torch.Size([100, 400])\n",
      "<class 'torch.FloatTensor'> torch.Size([100, 400])\n",
      "<class 'torch.FloatTensor'> torch.Size([1, 100])\n"
     ]
    }
   ],
   "source": [
    "net = AttnPoolingLSTM(args.batch, args.ebd_size, args.rnn_h, args.rnn_l, \n",
    "                     args.l_out, args.bidirectional, args.max_wds, cuda_able, args.attn_h)\n",
    "for param in net.parameters():\n",
    "    print(type(param.data), param.size())"
   ]
  },
  {
   "cell_type": "code",
   "execution_count": 204,
   "metadata": {},
   "outputs": [
    {
     "data": {
      "text/plain": [
       "torch.Size([1, 1, 200])"
      ]
     },
     "execution_count": 204,
     "metadata": {},
     "output_type": "execute_result"
    }
   ],
   "source": [
    "l=nn.Linear(100,200)\n",
    "W = nn.parameter.Parameter(torch.Tensor(1,100,200).uniform_(-0.05,0.05))\n",
    "pool = nn.MaxPool2d(kernel_size=(100,1))\n",
    "pool(W).size()"
   ]
  },
  {
   "cell_type": "code",
   "execution_count": 110,
   "metadata": {},
   "outputs": [
    {
     "name": "stdout",
     "output_type": "stream",
     "text": [
      "s1: torch.Size([1, 100, 1])\n",
      "@@ right answer attention:\n",
      "叶片\t深\t绿色\t，\t长\t180mm\t，\t宽\t100mm\t，\t卵形\t或\t渐尖\t，\t对\t生\t。\n",
      "<class 'torch.autograd.variable.Variable'>\n",
      "torch.Size([1, 100, 1])\n",
      "0.009603365324437618\t0.009742273949086666\t0.009506704285740852\t0.00965232215821743\t0.00970938429236412\t0.009409071877598763\t0.009991606697440147\t0.009996835142374039\t0.010336572304368019\t0.010374194011092186\t0.010399211198091507\t0.009994164109230042\t0.010080142877995968\t0.010270792059600353\t0.01047905907034874\t0.010483644902706146\t0.010430431924760342\t0.010409437119960785\t0.010352515615522861\t0.01051243580877781\t0.010192405432462692\t0.010190801694989204\t0.009935015812516212\t0.00983110349625349\t0.009971695952117443\t0.009970754384994507\t0.009976528584957123\t0.00997744221240282\t0.009976550005376339\t0.009975302964448929\t0.00997425802052021\t0.009973537176847458\t0.009973096661269665\t0.00997285358607769\t0.00997273251414299\t0.009972681291401386\t0.009972666390240192\t0.009972667321562767\t0.009972674772143364\t0.009972683154046535\t0.009972689673304558\t0.009972695261240005\t0.009972698986530304\t0.009972701780498028\t0.009972703643143177\t0.009972704574465752\t0.009972705505788326\t0.009972706437110901\t0.009972706437110901\t0.009972706437110901\t0.009972706437110901\t0.009972706437110901\t0.009972706437110901\t0.009972706437110901\t0.009972706437110901\t0.009972706437110901\t0.009972706437110901\t0.009972706437110901\t0.009972706437110901\t0.009972706437110901\t0.009972706437110901\t0.009972706437110901\t0.009972706437110901\t0.009972706437110901\t0.009972706437110901\t0.009972706437110901\t0.009972706437110901\t0.009972706437110901\t0.009972706437110901\t0.009972706437110901\t0.009972706437110901\t0.009972706437110901\t0.009972706437110901\t0.009972706437110901\t0.009972706437110901\t0.009972706437110901\t0.009972706437110901\t0.009972706437110901\t0.009972706437110901\t0.009972706437110901\t0.009972706437110901\t0.009972706437110901\t0.009972706437110901\t0.009972705505788326\t0.009972705505788326\t0.009972705505788326\t0.009972707368433475\t0.009972712025046349\t0.009972726926207542\t0.009972759522497654\t0.009972834028303623\t0.009972995147109032\t0.00997333787381649\t0.009974050335586071\t0.009975510649383068\t0.00997846107929945\t0.009984331205487251\t0.00999579206109047\t0.01001764740794897\t0.010058066807687283\n",
      "@@ wrong answer attention:\n",
      "叶片\t深\t绿色\t，\t长\t180mm\t，\t宽\t100mm\t，\t卵形\t或\t渐尖\t，\t对\t生\t。\n",
      "0.00988241657614708\t0.009823847562074661\t0.00990294013172388\t0.009949157945811749\t0.009974859654903412\t0.009988922625780106\t0.00999643374234438\t0.010000310838222504\t0.010002216324210167\t0.010003086179494858\t0.01000343356281519\t0.010003534145653248\t0.010003529489040375\t0.010003489442169666\t0.010003442876040936\t0.010003402829170227\t0.01000337302684784\t0.010003351606428623\t0.01000333670526743\t0.010003327392041683\t0.010003320872783661\t0.010003318078815937\t0.010003315284848213\t0.010003314353525639\t0.010003313422203064\t0.01000331249088049\t0.01000331249088049\t0.01000331249088049\t0.01000331249088049\t0.01000331249088049\t0.01000331249088049\t0.01000331249088049\t0.01000331249088049\t0.01000331249088049\t0.01000331249088049\t0.01000331249088049\t0.01000331249088049\t0.01000331249088049\t0.01000331249088049\t0.01000331249088049\t0.01000331249088049\t0.01000331249088049\t0.01000331249088049\t0.01000331249088049\t0.01000331249088049\t0.01000331249088049\t0.01000331249088049\t0.01000331249088049\t0.01000331249088049\t0.01000331249088049\t0.01000331249088049\t0.01000331249088049\t0.01000331249088049\t0.01000331249088049\t0.01000331249088049\t0.01000331249088049\t0.01000331249088049\t0.01000331249088049\t0.01000331249088049\t0.01000331249088049\t0.01000331249088049\t0.01000331249088049\t0.01000331249088049\t0.01000331249088049\t0.01000331249088049\t0.01000331249088049\t0.01000331249088049\t0.01000331249088049\t0.01000331249088049\t0.01000331249088049\t0.01000331249088049\t0.01000331249088049\t0.01000331249088049\t0.01000331249088049\t0.01000331249088049\t0.01000331249088049\t0.01000331249088049\t0.01000331249088049\t0.01000331249088049\t0.01000331249088049\t0.01000331249088049\t0.01000331249088049\t0.010003311559557915\t0.010003311559557915\t0.01000331062823534\t0.010003311559557915\t0.01000331249088049\t0.010003318078815937\t0.010003332979977131\t0.010003365576267242\t0.010003440082073212\t0.01000360306352377\t0.010003945790231228\t0.010004660114645958\t0.010006125085055828\t0.010009084828197956\t0.010014972649514675\t0.010026468895375729\t0.010048391297459602\t0.010088935494422913\n",
      "s1: torch.Size([1, 100, 1])\n",
      "@@ right answer attention:\n",
      "叶片\t深\t绿色\t，\t长\t180mm\t，\t宽\t100mm\t，\t卵形\t或\t渐尖\t，\t对\t生\t。\n",
      "<class 'torch.autograd.variable.Variable'>\n",
      "torch.Size([1, 100, 1])\n",
      "0.009603365324437618\t0.009742273949086666\t0.009506704285740852\t0.00965232215821743\t0.00970938429236412\t0.009409071877598763\t0.009991606697440147\t0.009996835142374039\t0.010336572304368019\t0.010374194011092186\t0.010399211198091507\t0.009994164109230042\t0.010080142877995968\t0.010270792059600353\t0.01047905907034874\t0.010483644902706146\t0.010430431924760342\t0.010409437119960785\t0.010352515615522861\t0.01051243580877781\t0.010192405432462692\t0.010190801694989204\t0.009935015812516212\t0.00983110349625349\t0.009971695952117443\t0.009970754384994507\t0.009976528584957123\t0.00997744221240282\t0.009976550005376339\t0.009975302964448929\t0.00997425802052021\t0.009973537176847458\t0.009973096661269665\t0.00997285358607769\t0.00997273251414299\t0.009972681291401386\t0.009972666390240192\t0.009972667321562767\t0.009972674772143364\t0.009972683154046535\t0.009972689673304558\t0.009972695261240005\t0.009972698986530304\t0.009972701780498028\t0.009972703643143177\t0.009972704574465752\t0.009972705505788326\t0.009972706437110901\t0.009972706437110901\t0.009972706437110901\t0.009972706437110901\t0.009972706437110901\t0.009972706437110901\t0.009972706437110901\t0.009972706437110901\t0.009972706437110901\t0.009972706437110901\t0.009972706437110901\t0.009972706437110901\t0.009972706437110901\t0.009972706437110901\t0.009972706437110901\t0.009972706437110901\t0.009972706437110901\t0.009972706437110901\t0.009972706437110901\t0.009972706437110901\t0.009972706437110901\t0.009972706437110901\t0.009972706437110901\t0.009972706437110901\t0.009972706437110901\t0.009972706437110901\t0.009972706437110901\t0.009972706437110901\t0.009972706437110901\t0.009972706437110901\t0.009972706437110901\t0.009972706437110901\t0.009972706437110901\t0.009972706437110901\t0.009972706437110901\t0.009972706437110901\t0.009972705505788326\t0.009972705505788326\t0.009972705505788326\t0.009972707368433475\t0.009972712025046349\t0.009972726926207542\t0.009972759522497654\t0.009972834028303623\t0.009972995147109032\t0.00997333787381649\t0.009974050335586071\t0.009975510649383068\t0.00997846107929945\t0.009984331205487251\t0.00999579206109047\t0.01001764740794897\t0.010058066807687283\n",
      "@@ wrong answer attention:\n",
      "叶片\t深\t绿色\t，\t长\t180mm\t，\t宽\t100mm\t，\t卵形\t或\t渐尖\t，\t对\t生\t。\n",
      "0.009648566134274006\t0.009801396168768406\t0.009967343881726265\t0.009981158189475536\t0.009991496801376343\t0.009998206049203873\t0.010001990012824535\t0.010003877803683281\t0.01000469271093607\t0.010004965588450432\t0.010004997253417969\t0.010004940442740917\t0.010004867799580097\t0.010004802606999874\t0.01000475324690342\t0.010004718787968159\t0.010004695504903793\t0.0100046806037426\t0.010004670359194279\t0.010004663839936256\t0.010004660114645958\t0.01000465638935566\t0.01000465452671051\t0.010004652664065361\t0.010004651732742786\t0.010004650801420212\t0.010004649870097637\t0.010004649870097637\t0.010004648938775063\t0.010004648938775063\t0.010004648938775063\t0.010004648007452488\t0.010004648007452488\t0.010004648007452488\t0.010004648007452488\t0.010004648007452488\t0.010004648007452488\t0.010004648007452488\t0.010004648007452488\t0.010004648007452488\t0.010004648007452488\t0.010004648007452488\t0.010004648007452488\t0.010004648007452488\t0.010004648007452488\t0.010004648007452488\t0.010004648007452488\t0.010004648007452488\t0.010004648007452488\t0.010004648007452488\t0.010004648007452488\t0.010004648007452488\t0.010004648007452488\t0.010004648007452488\t0.010004648007452488\t0.010004648007452488\t0.010004648007452488\t0.010004648007452488\t0.010004648007452488\t0.010004648007452488\t0.010004648007452488\t0.010004648007452488\t0.010004648007452488\t0.010004648007452488\t0.010004648007452488\t0.010004648007452488\t0.010004648007452488\t0.010004648007452488\t0.010004648007452488\t0.010004648007452488\t0.010004648007452488\t0.010004648007452488\t0.010004648007452488\t0.010004648007452488\t0.010004648007452488\t0.010004648007452488\t0.010004648007452488\t0.010004648007452488\t0.010004648007452488\t0.010004648007452488\t0.010004648007452488\t0.010004648007452488\t0.010004648007452488\t0.010004648007452488\t0.010004647076129913\t0.010004647076129913\t0.010004648938775063\t0.01000465452671051\t0.01000466849654913\t0.010004702024161816\t0.010004776529967785\t0.010004938580095768\t0.010005282238125801\t0.010005996562540531\t0.010007461532950401\t0.01001042127609253\t0.010016310960054398\t0.010027807205915451\t0.010049733333289623\t0.010090283118188381\n"
     ]
    },
    {
     "name": "stdout",
     "output_type": "stream",
     "text": [
      "s1: torch.Size([1, 100, 1])\n",
      "@@ right answer attention:\n",
      "叶片\t深\t绿色\t，\t长\t180mm\t，\t宽\t100mm\t，\t卵形\t或\t渐尖\t，\t对\t生\t。\n",
      "<class 'torch.autograd.variable.Variable'>\n",
      "torch.Size([1, 100, 1])\n",
      "0.009603365324437618\t0.009742273949086666\t0.009506704285740852\t0.00965232215821743\t0.00970938429236412\t0.009409071877598763\t0.009991606697440147\t0.009996835142374039\t0.010336572304368019\t0.010374194011092186\t0.010399211198091507\t0.009994164109230042\t0.010080142877995968\t0.010270792059600353\t0.01047905907034874\t0.010483644902706146\t0.010430431924760342\t0.010409437119960785\t0.010352515615522861\t0.01051243580877781\t0.010192405432462692\t0.010190801694989204\t0.009935015812516212\t0.00983110349625349\t0.009971695952117443\t0.009970754384994507\t0.009976528584957123\t0.00997744221240282\t0.009976550005376339\t0.009975302964448929\t0.00997425802052021\t0.009973537176847458\t0.009973096661269665\t0.00997285358607769\t0.00997273251414299\t0.009972681291401386\t0.009972666390240192\t0.009972667321562767\t0.009972674772143364\t0.009972683154046535\t0.009972689673304558\t0.009972695261240005\t0.009972698986530304\t0.009972701780498028\t0.009972703643143177\t0.009972704574465752\t0.009972705505788326\t0.009972706437110901\t0.009972706437110901\t0.009972706437110901\t0.009972706437110901\t0.009972706437110901\t0.009972706437110901\t0.009972706437110901\t0.009972706437110901\t0.009972706437110901\t0.009972706437110901\t0.009972706437110901\t0.009972706437110901\t0.009972706437110901\t0.009972706437110901\t0.009972706437110901\t0.009972706437110901\t0.009972706437110901\t0.009972706437110901\t0.009972706437110901\t0.009972706437110901\t0.009972706437110901\t0.009972706437110901\t0.009972706437110901\t0.009972706437110901\t0.009972706437110901\t0.009972706437110901\t0.009972706437110901\t0.009972706437110901\t0.009972706437110901\t0.009972706437110901\t0.009972706437110901\t0.009972706437110901\t0.009972706437110901\t0.009972706437110901\t0.009972706437110901\t0.009972706437110901\t0.009972705505788326\t0.009972705505788326\t0.009972705505788326\t0.009972707368433475\t0.009972712025046349\t0.009972726926207542\t0.009972759522497654\t0.009972834028303623\t0.009972995147109032\t0.00997333787381649\t0.009974050335586071\t0.009975510649383068\t0.00997846107929945\t0.009984331205487251\t0.00999579206109047\t0.01001764740794897\t0.010058066807687283\n",
      "@@ wrong answer attention:\n",
      "叶片\t深\t绿色\t，\t长\t180mm\t，\t宽\t100mm\t，\t卵形\t或\t渐尖\t，\t对\t生\t。\n",
      "0.010004633106291294\t0.0101702231913805\t0.009975296445190907\t0.009675916284322739\t0.010350199416279793\t0.010667368769645691\t0.009667549282312393\t0.009606351144611835\t0.00983367394655943\t0.010100613348186016\t0.010068459436297417\t0.010332775302231312\t0.010410614311695099\t0.010234431363642216\t0.010245785117149353\t0.009964142926037312\t0.009818393737077713\t0.010035006329417229\t0.010196194052696228\t0.010321996174752712\t0.010196374729275703\t0.010244053788483143\t0.010287394747138023\t0.01004913542419672\t0.01000314112752676\t0.009989339858293533\t0.009982230141758919\t0.009977739304304123\t0.009974434040486813\t0.00997181236743927\t0.009969701059162617\t0.009968028403818607\t0.00996673945337534\t0.009965773671865463\t0.009965070523321629\t0.00996457226574421\t0.009964226745069027\t0.009963992051780224\t0.009963834658265114\t0.009963731281459332\t0.009963663294911385\t0.009963620454072952\t0.009963593445718288\t0.009963574819266796\t0.00996356550604105\t0.009963558055460453\t0.00996355339884758\t0.00996355153620243\t0.009963549673557281\t0.009963548742234707\t0.009963548742234707\t0.009963547810912132\t0.009963547810912132\t0.009963547810912132\t0.009963547810912132\t0.009963547810912132\t0.009963547810912132\t0.009963547810912132\t0.009963547810912132\t0.009963547810912132\t0.009963547810912132\t0.009963547810912132\t0.009963547810912132\t0.009963547810912132\t0.009963547810912132\t0.009963547810912132\t0.009963547810912132\t0.009963546879589558\t0.009963547810912132\t0.009963547810912132\t0.009963547810912132\t0.009963547810912132\t0.009963547810912132\t0.009963547810912132\t0.009963547810912132\t0.009963547810912132\t0.009963547810912132\t0.009963547810912132\t0.009963547810912132\t0.009963547810912132\t0.009963547810912132\t0.009963546879589558\t0.009963546879589558\t0.009963546879589558\t0.009963546879589558\t0.009963546879589558\t0.009963548742234707\t0.00996355339884758\t0.0099635673686862\t0.009963600896298885\t0.009963675402104855\t0.009963836520910263\t0.009964178316295147\t0.009964889846742153\t0.009966349229216576\t0.009969297796487808\t0.009975162334740162\t0.009986612014472485\t0.010008446872234344\t0.01004883088171482\n",
      "s1: torch.Size([1, 100, 1])\n",
      "@@ right answer attention:\n",
      "叶片\t深\t绿色\t，\t长\t180mm\t，\t宽\t100mm\t，\t卵形\t或\t渐尖\t，\t对\t生\t。\n",
      "<class 'torch.autograd.variable.Variable'>\n",
      "torch.Size([1, 100, 1])\n",
      "0.009603365324437618\t0.009742273949086666\t0.009506704285740852\t0.00965232215821743\t0.00970938429236412\t0.009409071877598763\t0.009991606697440147\t0.009996835142374039\t0.010336572304368019\t0.010374194011092186\t0.010399211198091507\t0.009994164109230042\t0.010080142877995968\t0.010270792059600353\t0.01047905907034874\t0.010483644902706146\t0.010430431924760342\t0.010409437119960785\t0.010352515615522861\t0.01051243580877781\t0.010192405432462692\t0.010190801694989204\t0.009935015812516212\t0.00983110349625349\t0.009971695952117443\t0.009970754384994507\t0.009976528584957123\t0.00997744221240282\t0.009976550005376339\t0.009975302964448929\t0.00997425802052021\t0.009973537176847458\t0.009973096661269665\t0.00997285358607769\t0.00997273251414299\t0.009972681291401386\t0.009972666390240192\t0.009972667321562767\t0.009972674772143364\t0.009972683154046535\t0.009972689673304558\t0.009972695261240005\t0.009972698986530304\t0.009972701780498028\t0.009972703643143177\t0.009972704574465752\t0.009972705505788326\t0.009972706437110901\t0.009972706437110901\t0.009972706437110901\t0.009972706437110901\t0.009972706437110901\t0.009972706437110901\t0.009972706437110901\t0.009972706437110901\t0.009972706437110901\t0.009972706437110901\t0.009972706437110901\t0.009972706437110901\t0.009972706437110901\t0.009972706437110901\t0.009972706437110901\t0.009972706437110901\t0.009972706437110901\t0.009972706437110901\t0.009972706437110901\t0.009972706437110901\t0.009972706437110901\t0.009972706437110901\t0.009972706437110901\t0.009972706437110901\t0.009972706437110901\t0.009972706437110901\t0.009972706437110901\t0.009972706437110901\t0.009972706437110901\t0.009972706437110901\t0.009972706437110901\t0.009972706437110901\t0.009972706437110901\t0.009972706437110901\t0.009972706437110901\t0.009972706437110901\t0.009972705505788326\t0.009972705505788326\t0.009972705505788326\t0.009972707368433475\t0.009972712025046349\t0.009972726926207542\t0.009972759522497654\t0.009972834028303623\t0.009972995147109032\t0.00997333787381649\t0.009974050335586071\t0.009975510649383068\t0.00997846107929945\t0.009984331205487251\t0.00999579206109047\t0.01001764740794897\t0.010058066807687283\n",
      "@@ wrong answer attention:\n",
      "叶片\t深\t绿色\t，\t长\t180mm\t，\t宽\t100mm\t，\t卵形\t或\t渐尖\t，\t对\t生\t。\n",
      "0.009635853581130505\t0.009776049293577671\t0.009548993781208992\t0.009580024518072605\t0.009980385191738605\t0.00995330885052681\t0.010086985304951668\t0.009900562465190887\t0.010043498128652573\t0.010017108172178268\t0.010013301856815815\t0.010012378916144371\t0.010012420825660229\t0.010012787766754627\t0.010013218969106674\t0.01001360360532999\t0.01001390628516674\t0.010014127008616924\t0.010014279745519161\t0.010014381259679794\t0.010014449246227741\t0.010014492087066174\t0.010014520958065987\t0.010014539584517479\t0.010014552623033524\t0.010014561004936695\t0.010014567524194717\t0.010014571249485016\t0.01001457404345274\t0.010014576837420464\t0.010014577768743038\t0.010014578700065613\t0.010014579631388187\t0.010014579631388187\t0.010014579631388187\t0.010014579631388187\t0.010014580562710762\t0.010014580562710762\t0.010014580562710762\t0.010014580562710762\t0.010014580562710762\t0.010014580562710762\t0.010014580562710762\t0.010014580562710762\t0.010014580562710762\t0.010014580562710762\t0.010014580562710762\t0.010014580562710762\t0.010014580562710762\t0.010014580562710762\t0.010014580562710762\t0.010014580562710762\t0.010014580562710762\t0.010014580562710762\t0.010014580562710762\t0.010014580562710762\t0.010014580562710762\t0.010014580562710762\t0.010014580562710762\t0.010014580562710762\t0.010014580562710762\t0.010014580562710762\t0.010014580562710762\t0.010014580562710762\t0.010014580562710762\t0.010014580562710762\t0.010014580562710762\t0.010014580562710762\t0.010014580562710762\t0.010014580562710762\t0.010014580562710762\t0.010014580562710762\t0.010014580562710762\t0.010014580562710762\t0.010014580562710762\t0.010014580562710762\t0.010014580562710762\t0.010014580562710762\t0.010014580562710762\t0.010014580562710762\t0.010014580562710762\t0.010014579631388187\t0.010014579631388187\t0.010014579631388187\t0.010014579631388187\t0.010014579631388187\t0.010014581494033337\t0.010014587081968784\t0.010014601051807404\t0.01001463457942009\t0.010014709085226059\t0.010014871135354042\t0.010015214793384075\t0.01001593004912138\t0.010017395950853825\t0.010020360350608826\t0.010026254691183567\t0.01003776304423809\t0.010059710592031479\t0.010100300423800945\n"
     ]
    },
    {
     "name": "stdout",
     "output_type": "stream",
     "text": [
      "s1: torch.Size([1, 100, 1])\n",
      "@@ right answer attention:\n",
      "叶片\t深\t绿色\t，\t长\t180mm\t，\t宽\t100mm\t，\t卵形\t或\t渐尖\t，\t对\t生\t。\n",
      "<class 'torch.autograd.variable.Variable'>\n",
      "torch.Size([1, 100, 1])\n",
      "0.009603365324437618\t0.009742273949086666\t0.009506704285740852\t0.00965232215821743\t0.00970938429236412\t0.009409071877598763\t0.009991606697440147\t0.009996835142374039\t0.010336572304368019\t0.010374194011092186\t0.010399211198091507\t0.009994164109230042\t0.010080142877995968\t0.010270792059600353\t0.01047905907034874\t0.010483644902706146\t0.010430431924760342\t0.010409437119960785\t0.010352515615522861\t0.01051243580877781\t0.010192405432462692\t0.010190801694989204\t0.009935015812516212\t0.00983110349625349\t0.009971695952117443\t0.009970754384994507\t0.009976528584957123\t0.00997744221240282\t0.009976550005376339\t0.009975302964448929\t0.00997425802052021\t0.009973537176847458\t0.009973096661269665\t0.00997285358607769\t0.00997273251414299\t0.009972681291401386\t0.009972666390240192\t0.009972667321562767\t0.009972674772143364\t0.009972683154046535\t0.009972689673304558\t0.009972695261240005\t0.009972698986530304\t0.009972701780498028\t0.009972703643143177\t0.009972704574465752\t0.009972705505788326\t0.009972706437110901\t0.009972706437110901\t0.009972706437110901\t0.009972706437110901\t0.009972706437110901\t0.009972706437110901\t0.009972706437110901\t0.009972706437110901\t0.009972706437110901\t0.009972706437110901\t0.009972706437110901\t0.009972706437110901\t0.009972706437110901\t0.009972706437110901\t0.009972706437110901\t0.009972706437110901\t0.009972706437110901\t0.009972706437110901\t0.009972706437110901\t0.009972706437110901\t0.009972706437110901\t0.009972706437110901\t0.009972706437110901\t0.009972706437110901\t0.009972706437110901\t0.009972706437110901\t0.009972706437110901\t0.009972706437110901\t0.009972706437110901\t0.009972706437110901\t0.009972706437110901\t0.009972706437110901\t0.009972706437110901\t0.009972706437110901\t0.009972706437110901\t0.009972706437110901\t0.009972705505788326\t0.009972705505788326\t0.009972705505788326\t0.009972707368433475\t0.009972712025046349\t0.009972726926207542\t0.009972759522497654\t0.009972834028303623\t0.009972995147109032\t0.00997333787381649\t0.009974050335586071\t0.009975510649383068\t0.00997846107929945\t0.009984331205487251\t0.00999579206109047\t0.01001764740794897\t0.010058066807687283\n",
      "@@ wrong answer attention:\n",
      "叶片\t深\t绿色\t，\t长\t180mm\t，\t宽\t100mm\t，\t卵形\t或\t渐尖\t，\t对\t生\t。\n",
      "0.009741266258060932\t0.010297666303813457\t0.009883446618914604\t0.009961225092411041\t0.009880962781608105\t0.009653428569436073\t0.009635825641453266\t0.01006447896361351\t0.010062807239592075\t0.009972337633371353\t0.009915387257933617\t0.009898978285491467\t0.009957191534340382\t0.010452012531459332\t0.010148055851459503\t0.00990738719701767\t0.010808095335960388\t0.010576172731816769\t0.01029723696410656\t0.010287763550877571\t0.01026470772922039\t0.009787917137145996\t0.010002694092690945\t0.009923205710947514\t0.009742546826601028\t0.010620968416333199\t0.010404177941381931\t0.0101082194596529\t0.009777599945664406\t0.009901673533022404\t0.009933899156749249\t0.009957115165889263\t0.009968609549105167\t0.009973191656172276\t0.009974298998713493\t0.009973949752748013\t0.00997315812855959\t0.009972365573048592\t0.009971719235181808\t0.00997124332934618\t0.009970912709832191\t0.009970691055059433\t0.009970545768737793\t0.009970452636480331\t0.009970393031835556\t0.009970354847609997\t0.009970331564545631\t0.009970315732061863\t0.009970306418836117\t0.009970299899578094\t0.009970296174287796\t0.009970293380320072\t0.009970291517674923\t0.009970289655029774\t0.009970289655029774\t0.009970288723707199\t0.009970287792384624\t0.009970287792384624\t0.009970287792384624\t0.009970287792384624\t0.009970287792384624\t0.009970287792384624\t0.009970287792384624\t0.009970287792384624\t0.009970287792384624\t0.009970287792384624\t0.009970287792384624\t0.009970287792384624\t0.009970287792384624\t0.009970287792384624\t0.009970287792384624\t0.009970287792384624\t0.009970287792384624\t0.009970287792384624\t0.009970287792384624\t0.009970287792384624\t0.009970287792384624\t0.009970287792384624\t0.009970287792384624\t0.009970287792384624\t0.009970287792384624\t0.009970287792384624\t0.009970287792384624\t0.00997028686106205\t0.00997028686106205\t0.00997028686106205\t0.009970287792384624\t0.009970294311642647\t0.009970308281481266\t0.009970340877771378\t0.009970415383577347\t0.00997057743370533\t0.009970919229090214\t0.009971631690859795\t0.009973091073334217\t0.009976040571928024\t0.009981909766793251\t0.009993367828428745\t0.010015217587351799\t0.010055627673864365\n"
     ]
    }
   ],
   "source": [
    "net = AttnLSTM(args.batch, args.ebd_size, args.rnn_h, args.rnn_l, \n",
    "                     args.l_out, args.bidirectional, args.max_wds, cuda_able, args.attn_h)\n",
    "# optimizer = optim.Adamax(net.parameters())\n",
    "# net.load_state_dict(torch.load('attn-tanh.pkl'))\n",
    "data = {\n",
    "    'question':'卡痛 的 叶子 是 什么样 的 ？',\n",
    "    'right_answer':['叶片 深 绿色 ， 长 180mm ， 宽 100mm ， 卵形 或 渐尖 ， 对 生 。'],\n",
    "    'wrong_answer':['隶',\n",
    "                   '叶片',\n",
    "                   '属于 茜草科 帽蕊 木属 ， 原 产 于 东南亚 的 印度 和 马来西亚 。',\n",
    "                   '树叶 具有 药用 价值 。',\n",
    "                   '卡痛 属于 落叶 树种 ， 但是 除了 季节 的 影响 外 ， 环境 条件 也 会 影响 其 落叶 。'\n",
    "                   ],\n",
    "}\n",
    "evaluate_attention(args, embedding, net, data)"
   ]
  },
  {
   "cell_type": "code",
   "execution_count": null,
   "metadata": {
    "collapsed": true
   },
   "outputs": [],
   "source": []
  },
  {
   "cell_type": "code",
   "execution_count": 108,
   "metadata": {},
   "outputs": [
    {
     "name": "stdout",
     "output_type": "stream",
     "text": [
      "5.3838022040508804e-08\t4.5615067610701445e-41\t-6.613639413899364e-09\t3.0947676584613585e-41\t4.484155085839415e-44\n"
     ]
    }
   ],
   "source": [
    "s1 = Variable(torch.Tensor(1,5,1))\n",
    "print('\\t'.join([str(list(i)[0]) for i in s1[0].data]))\n"
   ]
  },
  {
   "cell_type": "code",
   "execution_count": 173,
   "metadata": {
    "scrolled": true
   },
   "outputs": [
    {
     "name": "stdout",
     "output_type": "stream",
     "text": [
      "[ 0  1  2  3  4  5  6  7  8  9 10 11 12 13 14 15 16 17 18 19 20 21 22 23 24\n",
      " 25 26 27 28 29 30 31 32 33 34 35 36 37 38 39]\n",
      "[1, 2, 3, 4, 5, 6, 7, 8, 9, 10, 11, 12, 13, 14, 15, 16, 17, 18, 19, 20, 21, 22, 23, 24, 25, 26, 27, 28, 29, 30, 31, 32, 33, 34, 35, 36, 37, 38, 39, 40]\n"
     ]
    },
    {
     "name": "stderr",
     "output_type": "stream",
     "text": [
      "/home/tuomx/anaconda3/lib/python3.6/site-packages/matplotlib/font_manager.py:1316: UserWarning: findfont: Font family ['sans-serif'] not found. Falling back to DejaVu Sans\n",
      "  (prop.get_family(), self.defaultFamily[fontext]))\n"
     ]
    },
    {
     "data": {
      "image/png": "[encoded data removed]",
      "text/plain": [
       "<matplotlib.figure.Figure at 0x7f27e0867358>"
      ]
     },
     "metadata": {},
     "output_type": "display_data"
    }
   ],
   "source": [
    "myfont = matplotlib.font_manager.FontProperties(fname=\"/usr/share/fonts/opentype/noto/NotoSansCJK-Bold.ttc\")\n",
    "mpl.rcParams['axes.unicode_minus'] = False\n",
    "\n",
    "fig = plt.figure()\n",
    "fig.set_figwidth(50)\n",
    "fig.set_figheight(10)\n",
    "ax = fig.add_subplot(111)\n",
    "bar_width = 0.5\n",
    "words = ['茜草科帽蕊'+str(i) for i in range(40)]\n",
    "xticks = np.arange(40)\n",
    "print(xticks)\n",
    "values = [i+1 for i in range(40)]\n",
    "print(values)\n",
    "bars = ax.bar(xticks, values, width=bar_width, edgecolor='none')\n",
    "ax.set_title('question-attention')\n",
    "ax.set_ylabel('weights')\n",
    "ax.set_xticks(xticks)\n",
    "ax.set_xticklabels(words, fontproperties=myfont)\n",
    "# show data on every bar\n",
    "for a,b in zip(xticks,values):\n",
    "    plt.text(a, b+0.05, '%.5f' % b, ha='center', va= 'bottom',fontsize=7)\n",
    "plt.savefig('test.png', format='png')\n",
    "plt.show()"
   ]
  },
  {
   "cell_type": "code",
   "execution_count": 171,
   "metadata": {},
   "outputs": [
    {
     "data": {
      "text/plain": [
       "[1, 2, 3]"
      ]
     },
     "execution_count": 171,
     "metadata": {},
     "output_type": "execute_result"
    }
   ],
   "source": [
    "a = [1,2,3]\n",
    "b = [1,2,3,4,5]\n",
    "b[:len(a)]"
   ]
  },
  {
   "cell_type": "markdown",
   "metadata": {
    "collapsed": true
   },
   "source": [
    "卡痛 的 叶子 是 什么样 的 ？\t叶片 深 绿色 ， 长 180mm ， 宽 100mm ， 卵形 或 渐尖 ， 对 生 。\t1\n",
    "卡痛 的 叶子 是 什么样 的 ？\t隶\t0\n",
    "卡痛 的 叶子 是 什么样 的 ？\t叶片\t0\n",
    "卡痛 的 叶子 是 什么样 的 ？\t属于 茜草科 帽蕊 木属 ， 原 产 于 东南亚 的 印度 和 马来西亚 。\t0\n",
    "卡痛 的 叶子 是 什么样 的 ？\t树叶 具有 药用 价值 。\t0\n",
    "卡痛 的 叶子 是 什么样 的 ？\t荷兰 植物学家 Pieter Korthals 首 次 观察 记录 。\t0\n",
    "卡痛 的 叶子 是 什么样 的 ？\t高 3.7-9.1m ， 直径 4.6m ， 在 适宜 的 生长 环境 中 ， 可 高 达 12-30m 。\t0\n",
    "卡痛 的 叶子 是 什么样 的 ？\t树干 直立 ， 具 分枝 。\t0\n",
    "卡痛 的 叶子 是 什么样 的 ？\t头状 花序 黄色 ， 顶生 。\t0\n",
    "卡痛 的 叶子 是 什么样 的 ？\t这 也 是 帽蕊 木属 的 特征 ， 每个 花序 有 小 花 120 朵 。\t0\n",
    "卡痛 的 叶子 是 什么样 的 ？\t在 花蕾 阶段 ， 小花 被 小苞片 完全 包围 。\t0\n",
    "卡痛 的 叶子 是 什么样 的 ？\t卡痛 属于 落叶 树种 ， 但是 除了 季节 的 影响 外 ， 环境 条件 也 会 影响 其 落叶 。\t0"
   ]
  }
 ],
 "metadata": {
  "kernelspec": {
   "display_name": "Python 3",
   "language": "python",
   "name": "python3"
  },
  "language_info": {
   "codemirror_mode": {
    "name": "ipython",
    "version": 3
   },
   "file_extension": ".py",
   "mimetype": "text/x-python",
   "name": "python",
   "nbconvert_exporter": "python",
   "pygments_lexer": "ipython3",
   "version": "3.6.3"
  }
 },
 "nbformat": 4,
 "nbformat_minor": 2
}
