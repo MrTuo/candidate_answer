{
 "cells": [
  {
   "cell_type": "code",
   "execution_count": 18,
   "metadata": {},
   "outputs": [],
   "source": [
    "import json as js\n",
    "\n",
    "dir_in = 'nlpcc-dev-data-par'\n",
    "dir_out = 'json_dev'\n",
    "f = open(dir_in, 'r', encoding='utf-8')\n",
    "\n",
    "question_num = 0\n",
    "json = {}\n",
    "\n",
    "line = f.readline()\n",
    "\n",
    "question_words = []\n",
    "right_answer_words = []\n",
    "wrong_answer_words = []\n",
    "no_wright_answer = 0\n",
    "line_count = 0\n",
    "while line:\n",
    "    line_count += 1\n",
    "    arr = line.strip('\\n').split('\\t')\n",
    "    new_question = arr[0].split(' ')\n",
    "    question_num += 1\n",
    "    json[question_num] = {}\n",
    "    json[question_num]['question'] = new_question\n",
    "    json[question_num]['right_answer'] = []\n",
    "    json[question_num]['wrong_answer'] = []\n",
    "    while True :\n",
    "        arr = line.strip('\\n').split('\\t')\n",
    "        question = arr[0].split(' ')\n",
    "        question_words.append(len(question))\n",
    "\n",
    "        if question != new_question:  # 找到一个新的问题.\n",
    "            if json[question_num]['right_answer'] == []:\n",
    "                no_wright_answer += 1\n",
    "                json.pop(question_num)\n",
    "                question_num -=1\n",
    "            break\n",
    "        answer = arr[1].split(' ')\n",
    "\n",
    "        if arr[2] == '1':\n",
    "            json[question_num]['right_answer'].append(answer)\n",
    "            right_answer_words.append(len(answer))\n",
    "        elif arr[2] == '0': \n",
    "            json[question_num]['wrong_answer'].append(answer)\n",
    "            wrong_answer_words.append(len(answer))\n",
    "        else:\n",
    "            print('Wrong!')\n",
    "            exit(0)\n",
    "        line = f.readline()\n",
    "        \n",
    "    for key in json:\n",
    "        assert json[key]['right_answer'] != []\n",
    "# 写入文件\n",
    "w = open(dir_out,'w',encoding='utf-8')\n",
    "w.write(js.dumps(json))\n",
    "w.close()"
   ]
  },
  {
   "cell_type": "code",
   "execution_count": 16,
   "metadata": {},
   "outputs": [
    {
     "data": {
      "text/plain": [
       "{'question': ['“', '年', '”', '字', '有', '多少', '笔', '？'],\n",
       " 'right_answer': [['笔划', '：', '6']],\n",
       " 'wrong_answer': [['古时候',\n",
       "   '所谓',\n",
       "   '的',\n",
       "   '“',\n",
       "   '年成',\n",
       "   '”',\n",
       "   '指',\n",
       "   '的',\n",
       "   '就',\n",
       "   '是',\n",
       "   '这个',\n",
       "   '。'],\n",
       "  ['因此', '古代', '的', '字书', '把', '“', '年', '”', '字', '放禾部', '。'],\n",
       "  ['由于',\n",
       "   '谷禾',\n",
       "   '一般',\n",
       "   '都',\n",
       "   '是',\n",
       "   '一',\n",
       "   '年',\n",
       "   '一',\n",
       "   '熟',\n",
       "   '，',\n",
       "   '所',\n",
       "   '“',\n",
       "   '年',\n",
       "   '”',\n",
       "   '便',\n",
       "   '被',\n",
       "   '引申',\n",
       "   '为',\n",
       "   '岁',\n",
       "   '名',\n",
       "   '了',\n",
       "   '。'],\n",
       "  ['拼音', '：', 'ni', 'á', 'n'],\n",
       "  ['部', '首', '：', '干'],\n",
       "  ['五', '笔', '86', '：', 'rh', '(', '简', ')', 'rhfk', '(', '全', ')'],\n",
       "  ['五', '笔', '98', ':', 'tg'],\n",
       "  ['笔顺',\n",
       "   '演示',\n",
       "   '：',\n",
       "   '1.丿',\n",
       "   '2.',\n",
       "   '一',\n",
       "   '3',\n",
       "   '.',\n",
       "   '一',\n",
       "   '4',\n",
       "   '.',\n",
       "   '小丨',\n",
       "   '5.',\n",
       "   '一6.丨',\n",
       "   '[',\n",
       "   '1',\n",
       "   ']',\n",
       "   '年'],\n",
       "  ['四', '角', '号码', '：', '8050'],\n",
       "  ['汉字', '首尾', '分解', ':', '午一'],\n",
       "  ['汉字', '部件', '分解', ':', '年'],\n",
       "  ['笔顺', '编号', ':', '311212'],\n",
       "  ['笔顺', '读', '写', ':', '撇横横竖横竖'],\n",
       "  ['[', '2', ']'],\n",
       "  ['1',\n",
       "   '、',\n",
       "   '时间',\n",
       "   '单位',\n",
       "   '，',\n",
       "   '地球',\n",
       "   '绕',\n",
       "   '太阳',\n",
       "   '旋转',\n",
       "   '一',\n",
       "   '周',\n",
       "   '的',\n",
       "   '时间',\n",
       "   '：',\n",
       "   '年初',\n",
       "   '；',\n",
       "   '今年',\n",
       "   '；',\n",
       "   '年终',\n",
       "   '；',\n",
       "   '三',\n",
       "   '年',\n",
       "   '五',\n",
       "   '载',\n",
       "   '。'],\n",
       "  ['2', '、', '岁数', '：', '年纪', '；', '年龄', '；', '年轻', '；', '益寿', '延年', '。'],\n",
       "  ['3',\n",
       "   '、',\n",
       "   '人',\n",
       "   '一生',\n",
       "   '按',\n",
       "   '年龄',\n",
       "   '划分',\n",
       "   '的',\n",
       "   '阶段',\n",
       "   '：',\n",
       "   '童年',\n",
       "   '；',\n",
       "   '中年',\n",
       "   '；',\n",
       "   '老年',\n",
       "   '。'],\n",
       "  ['4',\n",
       "   '、',\n",
       "   '有关',\n",
       "   '年节',\n",
       "   '的',\n",
       "   '（',\n",
       "   '用品',\n",
       "   '）',\n",
       "   '：',\n",
       "   '年糕',\n",
       "   '|',\n",
       "   '年货',\n",
       "   '|',\n",
       "   '年画',\n",
       "   '。'],\n",
       "  ['5', '、', '时期', '；', '时代', '：', '年代', '；', '早年', '；', '初年', '。'],\n",
       "  ['6',\n",
       "   '、',\n",
       "   '一',\n",
       "   '年',\n",
       "   '中',\n",
       "   '庄稼',\n",
       "   '的',\n",
       "   '收成',\n",
       "   '：',\n",
       "   '年成',\n",
       "   '；',\n",
       "   '年景',\n",
       "   '；',\n",
       "   '丰年',\n",
       "   '。'],\n",
       "  ['7', '、', '每年', '的', '：', '年会', '；', '年报', '；', '年产量', '。'],\n",
       "  ['8', '、', '姓', '。'],\n",
       "  ['如', '年羹尧', '、', '傻子', '瓜子年', '广久', '等', '。'],\n",
       "  ['9',\n",
       "   '、',\n",
       "   '科举',\n",
       "   '时代',\n",
       "   '同年',\n",
       "   '登科',\n",
       "   '的',\n",
       "   '关系',\n",
       "   '：',\n",
       "   '年兄',\n",
       "   '|',\n",
       "   '年谊',\n",
       "   '|',\n",
       "   '同年',\n",
       "   '。'],\n",
       "  ['10',\n",
       "   '、',\n",
       "   '年',\n",
       "   '是',\n",
       "   '与',\n",
       "   '地球',\n",
       "   '在',\n",
       "   '轨道',\n",
       "   '上',\n",
       "   '绕',\n",
       "   '太阳',\n",
       "   '公转',\n",
       "   '有关',\n",
       "   '事件',\n",
       "   '再现',\n",
       "   '之间',\n",
       "   '的',\n",
       "   '时间',\n",
       "   '单位',\n",
       "   '。'],\n",
       "  ['11',\n",
       "   '、',\n",
       "   '传说',\n",
       "   '中',\n",
       "   '的',\n",
       "   '神兽',\n",
       "   '，',\n",
       "   '每逢',\n",
       "   '除夕夜',\n",
       "   '出没',\n",
       "   '祸害',\n",
       "   '人间',\n",
       "   '，',\n",
       "   '百姓',\n",
       "   '以',\n",
       "   '爆竹',\n",
       "   '驱赶',\n",
       "   '。'],\n",
       "  ['年', 'ni', 'á', 'n', '，', '形声', '。'],\n",
       "  ['甲骨',\n",
       "   '文字形',\n",
       "   '：',\n",
       "   '上',\n",
       "   '“',\n",
       "   '禾',\n",
       "   '”',\n",
       "   '下',\n",
       "   '“',\n",
       "   '人',\n",
       "   '”',\n",
       "   '，',\n",
       "   '是',\n",
       "   '一',\n",
       "   '人',\n",
       "   '背负',\n",
       "   '着',\n",
       "   '成熟',\n",
       "   '的',\n",
       "   '禾',\n",
       "   '的',\n",
       "   '形象',\n",
       "   '，',\n",
       "   '表示',\n",
       "   '收成',\n",
       "   '；',\n",
       "   '小',\n",
       "   '篆字形',\n",
       "   '：',\n",
       "   '从',\n",
       "   '禾',\n",
       "   '，',\n",
       "   '从',\n",
       "   '千',\n",
       "   '，',\n",
       "   '千亦声',\n",
       "   '。'],\n",
       "  ['“', '禾', '”', '指', '五谷', '。']]}"
      ]
     },
     "execution_count": 16,
     "metadata": {},
     "output_type": "execute_result"
    }
   ],
   "source": [
    "json[1]"
   ]
  },
  {
   "cell_type": "code",
   "execution_count": 11,
   "metadata": {},
   "outputs": [
    {
     "data": {
      "text/plain": [
       "['“ 年 ” 字 有 多少 笔 ？', '古时候 所谓 的 “ 年成 ” 指 的 就 是 这个 。', '0']"
      ]
     },
     "execution_count": 11,
     "metadata": {},
     "output_type": "execute_result"
    }
   ],
   "source": [
    "arr=line.strip('\\n').split('\\t')\n",
    "arr"
   ]
  },
  {
   "cell_type": "markdown",
   "metadata": {},
   "source": [
    "# Data detail\n",
    "## train_expt_stop\n",
    "-  question counts: 8772\n",
    "-  queations without right answer: 4(Maybe except stop words makes it no right answer)\n",
    "-  total answers: 9198(right)+172684(wrong) = 181882\n",
    "-  max question words count:23\n",
    "-  max right answer words count:351\n",
    "-  max wrong answer words count:824\n",
    "\n",
    "## test_expt_stop\n",
    "-  question counts: 5997\n",
    "-  question without right answer: 0 \n",
    "-  total answers: 6107(right)+116424(wrong)\n",
    "-  max question words count:23\n",
    "-  max right answer words count:393(Only one greater than 353)\n",
    "-  max wrong answer words count:2794(Only one greater than 824)\n",
    "\n",
    "## train\n",
    "-  question counts: 8772\n",
    "-  queations without right answer: 4(Maybe except stop words makes it no right answer)\n",
    "-  total answers: 9198(right)+172684(wrong) = 181882\n",
    "-  max question words count:34\n",
    "-  max right answer words count:468\n",
    "-  max wrong answer words count:834\n",
    "\n",
    "## test\n",
    "-  question counts: 5997\n",
    "-  question without right answer: 0 \n",
    "-  total answers: 6107(right)+116424(wrong)\n",
    "-  max question words count:23\n",
    "-  max right answer words count:444(Only one greater than 353)\n",
    "-  max wrong answer words count:3096(two:954,3096)"
   ]
  },
  {
   "cell_type": "code",
   "execution_count": 35,
   "metadata": {},
   "outputs": [
    {
     "data": {
      "text/plain": [
       "5997"
      ]
     },
     "execution_count": 35,
     "metadata": {},
     "output_type": "execute_result"
    }
   ],
   "source": [
    "line_count"
   ]
  },
  {
   "cell_type": "code",
   "execution_count": 36,
   "metadata": {},
   "outputs": [
    {
     "data": {
      "text/plain": [
       "6107"
      ]
     },
     "execution_count": 36,
     "metadata": {},
     "output_type": "execute_result"
    }
   ],
   "source": [
    "len(right_answer_words)"
   ]
  },
  {
   "cell_type": "code",
   "execution_count": 37,
   "metadata": {},
   "outputs": [
    {
     "data": {
      "text/plain": [
       "116424"
      ]
     },
     "execution_count": 37,
     "metadata": {},
     "output_type": "execute_result"
    }
   ],
   "source": [
    "len(wrong_answer_words)"
   ]
  },
  {
   "cell_type": "code",
   "execution_count": 38,
   "metadata": {},
   "outputs": [
    {
     "data": {
      "text/plain": [
       "5997"
      ]
     },
     "execution_count": 38,
     "metadata": {},
     "output_type": "execute_result"
    }
   ],
   "source": [
    "len(json)"
   ]
  },
  {
   "cell_type": "code",
   "execution_count": 39,
   "metadata": {},
   "outputs": [
    {
     "data": {
      "text/plain": [
       "444"
      ]
     },
     "execution_count": 39,
     "metadata": {},
     "output_type": "execute_result"
    }
   ],
   "source": [
    "max(right_answer_words)"
   ]
  },
  {
   "cell_type": "code",
   "execution_count": 40,
   "metadata": {},
   "outputs": [
    {
     "data": {
      "text/plain": [
       "3096"
      ]
     },
     "execution_count": 40,
     "metadata": {},
     "output_type": "execute_result"
    }
   ],
   "source": [
    "max(wrong_answer_words)"
   ]
  },
  {
   "cell_type": "code",
   "execution_count": 41,
   "metadata": {},
   "outputs": [
    {
     "data": {
      "text/plain": [
       "36"
      ]
     },
     "execution_count": 41,
     "metadata": {},
     "output_type": "execute_result"
    }
   ],
   "source": [
    "max(question_words)"
   ]
  },
  {
   "cell_type": "code",
   "execution_count": 45,
   "metadata": {},
   "outputs": [
    {
     "name": "stdout",
     "output_type": "stream",
     "text": [
      "576\n",
      "472\n",
      "508\n",
      "824\n",
      "476\n",
      "531\n",
      "660\n",
      "378\n",
      "8\n"
     ]
    }
   ],
   "source": [
    "count = 0\n",
    "for i in wrong_answer_words:\n",
    "    if i > 353:\n",
    "        print(i)\n",
    "        count +=1\n",
    "print(count)"
   ]
  },
  {
   "cell_type": "code",
   "execution_count": null,
   "metadata": {
    "collapsed": true
   },
   "outputs": [],
   "source": []
  }
 ],
 "metadata": {
  "kernelspec": {
   "display_name": "Python 3",
   "language": "python",
   "name": "python3"
  },
  "language_info": {
   "codemirror_mode": {
    "name": "ipython",
    "version": 3
   },
   "file_extension": ".py",
   "mimetype": "text/x-python",
   "name": "python",
   "nbconvert_exporter": "python",
   "pygments_lexer": "ipython3",
   "version": "3.6.3"
  }
 },
 "nbformat": 4,
 "nbformat_minor": 1
}
