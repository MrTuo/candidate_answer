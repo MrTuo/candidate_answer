{
 "cells": [
  {
   "cell_type": "code",
   "execution_count": 44,
   "metadata": {
    "collapsed": true
   },
   "outputs": [],
   "source": [
    "import json as js\n",
    "\n",
    "dir_in = 'data/train_expt_stop'\n",
    "dir_out = 'json_test'\n",
    "f = open(dir_in, 'r', encoding='utf-8')\n",
    "\n",
    "question_num = 0\n",
    "json = {}\n",
    "\n",
    "line = f.readline()\n",
    "\n",
    "question_words = []\n",
    "right_answer_words = []\n",
    "wrong_answer_words = []\n",
    "no_wright_answer = 0\n",
    "line_count = 0\n",
    "while line:\n",
    "    line_count += 1\n",
    "    arr = line.split('\\t')\n",
    "    new_question = arr[0].split(' ')\n",
    "    question_num += 1\n",
    "    json[question_num] = {}\n",
    "    json[question_num]['question'] = new_question\n",
    "    json[question_num]['right_answer'] = []\n",
    "    json[question_num]['wrong_answer'] = []\n",
    "    while True :\n",
    "        arr = line.split('\\t')\n",
    "        question = arr[0].split(' ')\n",
    "        question_words.append(len(question))\n",
    "\n",
    "        if question != new_question:  # 找到一个新的问题.\n",
    "            if json[question_num]['right_answer'] == []:\n",
    "                no_wright_answer += 1\n",
    "                json.pop(question_num)\n",
    "                question_num -=1\n",
    "            break\n",
    "        answer = arr[1].split(' ')\n",
    "\n",
    "        if arr[2] == '1':\n",
    "            json[question_num]['right_answer'].append(answer)\n",
    "            right_answer_words.append(len(answer))\n",
    "        else:\n",
    "            json[question_num]['wrong_answer'].append(answer)\n",
    "            wrong_answer_words.append(len(answer))\n",
    "        line = f.readline()\n",
    "        \n",
    "    for key in json:\n",
    "        assert json[key]['right_answer'] != []\n",
    "# 写入文件\n",
    "# w = open(dir_out,'w',encoding='utf-8')\n",
    "# w.write(js.dumps(json))\n",
    "# w.close()"
   ]
  },
  {
   "cell_type": "markdown",
   "metadata": {},
   "source": [
    "# Data detail\n",
    "## train_expt_stop\n",
    "-  question counts: 8772\n",
    "-  queations without right answer: 4(Maybe except stop words makes it no right answer)\n",
    "-  total answers: 9198(right)+172684(wrong) = 181882\n",
    "-  max question words count:23\n",
    "-  max right answer words count:351\n",
    "-  max wrong answer words count:824\n",
    "\n",
    "## test_expt_stop\n",
    "-  question counts: 5997\n",
    "-  question without right answer: 0 \n",
    "-  total answers: 6107(right)+116424(wrong)\n",
    "-  max question words count:23\n",
    "-  max right answer words count:393(Only one greater than 353)\n",
    "-  max wrong answer words count:2794(Only one greater than 824)\n",
    "\n",
    "## train\n",
    "-  question counts: 8772\n",
    "-  queations without right answer: 4(Maybe except stop words makes it no right answer)\n",
    "-  total answers: 9198(right)+172684(wrong) = 181882\n",
    "-  max question words count:34\n",
    "-  max right answer words count:468\n",
    "-  max wrong answer words count:834\n",
    "\n",
    "## test\n",
    "-  question counts: 5997\n",
    "-  question without right answer: 0 \n",
    "-  total answers: 6107(right)+116424(wrong)\n",
    "-  max question words count:23\n",
    "-  max right answer words count:444(Only one greater than 353)\n",
    "-  max wrong answer words count:3096(two:954,3096)"
   ]
  },
  {
   "cell_type": "code",
   "execution_count": 35,
   "metadata": {},
   "outputs": [
    {
     "data": {
      "text/plain": [
       "5997"
      ]
     },
     "execution_count": 35,
     "metadata": {},
     "output_type": "execute_result"
    }
   ],
   "source": [
    "line_count"
   ]
  },
  {
   "cell_type": "code",
   "execution_count": 36,
   "metadata": {},
   "outputs": [
    {
     "data": {
      "text/plain": [
       "6107"
      ]
     },
     "execution_count": 36,
     "metadata": {},
     "output_type": "execute_result"
    }
   ],
   "source": [
    "len(right_answer_words)"
   ]
  },
  {
   "cell_type": "code",
   "execution_count": 37,
   "metadata": {},
   "outputs": [
    {
     "data": {
      "text/plain": [
       "116424"
      ]
     },
     "execution_count": 37,
     "metadata": {},
     "output_type": "execute_result"
    }
   ],
   "source": [
    "len(wrong_answer_words)"
   ]
  },
  {
   "cell_type": "code",
   "execution_count": 38,
   "metadata": {},
   "outputs": [
    {
     "data": {
      "text/plain": [
       "5997"
      ]
     },
     "execution_count": 38,
     "metadata": {},
     "output_type": "execute_result"
    }
   ],
   "source": [
    "len(json)"
   ]
  },
  {
   "cell_type": "code",
   "execution_count": 39,
   "metadata": {},
   "outputs": [
    {
     "data": {
      "text/plain": [
       "444"
      ]
     },
     "execution_count": 39,
     "metadata": {},
     "output_type": "execute_result"
    }
   ],
   "source": [
    "max(right_answer_words)"
   ]
  },
  {
   "cell_type": "code",
   "execution_count": 40,
   "metadata": {},
   "outputs": [
    {
     "data": {
      "text/plain": [
       "3096"
      ]
     },
     "execution_count": 40,
     "metadata": {},
     "output_type": "execute_result"
    }
   ],
   "source": [
    "max(wrong_answer_words)"
   ]
  },
  {
   "cell_type": "code",
   "execution_count": 41,
   "metadata": {},
   "outputs": [
    {
     "data": {
      "text/plain": [
       "36"
      ]
     },
     "execution_count": 41,
     "metadata": {},
     "output_type": "execute_result"
    }
   ],
   "source": [
    "max(question_words)"
   ]
  },
  {
   "cell_type": "code",
   "execution_count": 45,
   "metadata": {},
   "outputs": [
    {
     "name": "stdout",
     "output_type": "stream",
     "text": [
      "576\n",
      "472\n",
      "508\n",
      "824\n",
      "476\n",
      "531\n",
      "660\n",
      "378\n",
      "8\n"
     ]
    }
   ],
   "source": [
    "count = 0\n",
    "for i in wrong_answer_words:\n",
    "    if i > 353:\n",
    "        print(i)\n",
    "        count +=1\n",
    "print(count)"
   ]
  },
  {
   "cell_type": "code",
   "execution_count": null,
   "metadata": {
    "collapsed": true
   },
   "outputs": [],
   "source": []
  }
 ],
 "metadata": {
  "kernelspec": {
   "display_name": "Python 3",
   "language": "python",
   "name": "python3"
  },
  "language_info": {
   "codemirror_mode": {
    "name": "ipython",
    "version": 3
   },
   "file_extension": ".py",
   "mimetype": "text/x-python",
   "name": "python",
   "nbconvert_exporter": "python",
   "pygments_lexer": "ipython3",
   "version": "3.6.3"
  }
 },
 "nbformat": 4,
 "nbformat_minor": 1
}
