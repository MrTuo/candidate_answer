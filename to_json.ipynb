{
 "cells": [
  {
   "cell_type": "code",
   "execution_count": 16,
   "metadata": {},
   "outputs": [
    {
     "name": "stdout",
     "output_type": "stream",
     "text": [
      "0\n",
      "0\n"
     ]
    }
   ],
   "source": [
    "import json as js\n",
    "\n",
    "dir_train = 'D:/Github/candidate_answer/data/train_expt_stop'\n",
    "f = open(dir_train, 'r', encoding='utf-8')\n",
    "\n",
    "question_num = 0\n",
    "json = {}\n",
    "\n",
    "line = f.readline()\n",
    "\n",
    "question_words = []\n",
    "right_answer_words = []\n",
    "wrong_answer_words = []\n",
    "while line:\n",
    "    arr = line.split('\\t')\n",
    "    new_question = arr[0].split(' ')\n",
    "    question_num += 1\n",
    "    json[question_num] = {}\n",
    "    json[question_num]['question'] = new_question\n",
    "    json[question_num]['right_answer'] = []\n",
    "    json[question_num]['wrong_answer'] = []\n",
    "    while True :\n",
    "        arr = line.split('\\t')\n",
    "        question = arr[0].split(' ')\n",
    "        question_words.append(len(question))\n",
    "\n",
    "        if question != new_question:  # 找到一个新的问题.\n",
    "            break\n",
    "        answer = arr[1].split(' ')\n",
    "\n",
    "        if arr[2] == '1':\n",
    "            json[question_num]['right_answer'].append(answer)\n",
    "            right_answer_words.append(len(answer))\n",
    "        else:\n",
    "            json[question_num]['wrong_answer'].append(answer)\n",
    "            wrong_answer_words.append(len(answer))\n",
    "        line = f.readline()\n",
    "print(question_max_words)\n",
    "print(answer_max_words)\n",
    "# 写入文件\n",
    "# w = open('json_train_expt_stop','w',encoding='utf-8')\n",
    "# w.write(js.dumps(json))\n",
    "# w.close()"
   ]
  },
  {
   "cell_type": "code",
   "execution_count": 15,
   "metadata": {},
   "outputs": [
    {
     "name": "stdout",
     "output_type": "stream",
     "text": [
      "23\n"
     ]
    }
   ],
   "source": [
    "print(max(question_words))"
   ]
  },
  {
   "cell_type": "code",
   "execution_count": 17,
   "metadata": {},
   "outputs": [
    {
     "name": "stdout",
     "output_type": "stream",
     "text": [
      "351\n"
     ]
    }
   ],
   "source": [
    "print(max(right_answer_words))"
   ]
  },
  {
   "cell_type": "code",
   "execution_count": null,
   "metadata": {
    "collapsed": true
   },
   "outputs": [],
   "source": []
  }
 ],
 "metadata": {
  "kernelspec": {
   "display_name": "Python 3",
   "language": "python",
   "name": "python3"
  },
  "language_info": {
   "codemirror_mode": {
    "name": "ipython",
    "version": 3
   },
   "file_extension": ".py",
   "mimetype": "text/x-python",
   "name": "python",
   "nbconvert_exporter": "python",
   "pygments_lexer": "ipython3",
   "version": "3.6.2"
  }
 },
 "nbformat": 4,
 "nbformat_minor": 1
}
